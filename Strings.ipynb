{
  "nbformat": 4,
  "nbformat_minor": 0,
  "metadata": {
    "colab": {
      "name": "Strings.ipynb",
      "provenance": [],
      "include_colab_link": true
    },
    "kernelspec": {
      "name": "python3",
      "display_name": "Python 3"
    }
  },
  "cells": [
    {
      "cell_type": "markdown",
      "metadata": {
        "id": "view-in-github",
        "colab_type": "text"
      },
      "source": [
        "<a href=\"https://colab.research.google.com/github/carlosfab/introducao-ao-python/blob/master/Strings.ipynb\" target=\"_parent\"><img src=\"https://colab.research.google.com/assets/colab-badge.svg\" alt=\"Open In Colab\"/></a>"
      ]
    },
    {
      "cell_type": "markdown",
      "metadata": {
        "id": "CkHnujC02HJh",
        "colab_type": "text"
      },
      "source": [
        "# Introdução ao Python\n",
        "\n",
        "Nesta aula conheceremos as *strings*, que são uma sequência de caracteres como números, letras e símbolos.\n",
        "\n",
        "## Strings\n",
        "\n",
        "Strings são caracteres declarados entre aspas (simples ou duplas), sendo que esses caracteres podem ser símbolos, números ou letras.\n",
        "\n",
        "Operações ou manipulações de *strings* são muito comuns, e com frequência você irá precisar trabalhá-las em seus projetos de *Data Science*. Vale ressaltar que o Python mostra o tipo *string* como sendo `str`:"
      ]
    },
    {
      "cell_type": "code",
      "metadata": {
        "id": "AB9azh_H3Hkl",
        "colab_type": "code",
        "colab": {
          "base_uri": "https://localhost:8080/",
          "height": 35
        },
        "outputId": "415c2c0f-2341-4367-a6f8-1fb1e08eebaa"
      },
      "source": [
        "type(\"Carlos Melo\")"
      ],
      "execution_count": 1,
      "outputs": [
        {
          "output_type": "execute_result",
          "data": {
            "text/plain": [
              "str"
            ]
          },
          "metadata": {
            "tags": []
          },
          "execution_count": 1
        }
      ]
    },
    {
      "cell_type": "markdown",
      "metadata": {
        "id": "uWZ8wBre3Jk_",
        "colab_type": "text"
      },
      "source": [
        "Para imprimir *strings*, eu iformo as mesmas dentro da função `print()`."
      ]
    },
    {
      "cell_type": "code",
      "metadata": {
        "id": "i7fXHlKz3vS6",
        "colab_type": "code",
        "colab": {
          "base_uri": "https://localhost:8080/",
          "height": 71
        },
        "outputId": "8093cab3-d273-4941-bb39-98ee0d15b557"
      },
      "source": [
        "nome = \"Carlos\"\n",
        "sobrenome = \"Melo\"\n",
        "sufixo = \"Junior\"\n",
        "profissao = \"Piloto\"\n",
        "\n",
        "# imprimir nome completo\n",
        "print(\"Nome completo:\")\n",
        "print(nome, sobrenome, sufixo)\n",
        "\n",
        "# imprimir profissão\n",
        "print(\"Sua profissão é\", profissao + \".\")"
      ],
      "execution_count": 2,
      "outputs": [
        {
          "output_type": "stream",
          "text": [
            "Nome completo:\n",
            "Carlos Melo Junior\n",
            "Sua profissão é Piloto.\n"
          ],
          "name": "stdout"
        }
      ]
    },
    {
      "cell_type": "markdown",
      "metadata": {
        "id": "YP3MDpvp4BUO",
        "colab_type": "text"
      },
      "source": [
        "É possível acessar os caracteres individuais dentro de uma *string*. Para isso, basta informar a posição desejada entre colchetes.\n",
        "\n",
        "**Lembre-se sempre que a linguagem Python (assim como a maioria) começa com uma indexação em 0.** Veja como as posições da *string* `Carlos` estão distribuidas:\n",
        "\n",
        "| **0** | **1** | **2** | **3** | **4** | **5** |\n",
        "|:-----:|:-----:|:-----:|:-----:|:-----:|:-----:|\n",
        "| C     | a     | r     | l     | o     | s     |\n",
        "\n",
        "Uma dica, para acessar a última letra de uma *string* é só colocar `[-1]` ao final da mesma.\n"
      ]
    },
    {
      "cell_type": "code",
      "metadata": {
        "id": "SomdfCeS5G_-",
        "colab_type": "code",
        "colab": {
          "base_uri": "https://localhost:8080/",
          "height": 35
        },
        "outputId": "2b3eea8d-4b61-42a5-c434-876b008d6657"
      },
      "source": [
        "nome = \"Carlos\"\n",
        "\n",
        "# ver qual é a primeira letra da variável `nome`\n",
        "nome[0]"
      ],
      "execution_count": 3,
      "outputs": [
        {
          "output_type": "execute_result",
          "data": {
            "text/plain": [
              "'C'"
            ]
          },
          "metadata": {
            "tags": []
          },
          "execution_count": 3
        }
      ]
    },
    {
      "cell_type": "code",
      "metadata": {
        "id": "1GLcSOmw5Tnc",
        "colab_type": "code",
        "colab": {
          "base_uri": "https://localhost:8080/",
          "height": 35
        },
        "outputId": "238c52d1-2b52-4fc2-9f21-ce7f074b32a7"
      },
      "source": [
        "# ver qual a última letra da variável `nome`\n",
        "nome[-1]"
      ],
      "execution_count": 4,
      "outputs": [
        {
          "output_type": "execute_result",
          "data": {
            "text/plain": [
              "'s'"
            ]
          },
          "metadata": {
            "tags": []
          },
          "execution_count": 4
        }
      ]
    },
    {
      "cell_type": "markdown",
      "metadata": {
        "id": "uBz-T_tk5nuV",
        "colab_type": "text"
      },
      "source": [
        "Para saber o tamanho de uma *string*, existe no Python uma função chamada `len()`, que irá sempre retornar um valor do tipo inteiro (`int`). Usá-la é muito simples e direto:"
      ]
    },
    {
      "cell_type": "code",
      "metadata": {
        "id": "QWjKTNXG6B-1",
        "colab_type": "code",
        "colab": {
          "base_uri": "https://localhost:8080/",
          "height": 35
        },
        "outputId": "66b20592-a331-45cd-a5db-805c849ffe4b"
      },
      "source": [
        "# verificar o tamanho da sequência de um DNA\n",
        "dna = 'ATGCGGACCTAT'\n",
        "\n",
        "print(len(dna))"
      ],
      "execution_count": 5,
      "outputs": [
        {
          "output_type": "stream",
          "text": [
            "12\n"
          ],
          "name": "stdout"
        }
      ]
    },
    {
      "cell_type": "markdown",
      "metadata": {
        "id": "vSoPOrap6xE1",
        "colab_type": "text"
      },
      "source": [
        "## Exercícios\n",
        "\n",
        "* Escreva seu nome e sobrenome, como nos exemplos acima, e imprima ele na tela usando a função `print()`:"
      ]
    },
    {
      "cell_type": "code",
      "metadata": {
        "id": "ehkKyhU_60_3",
        "colab_type": "code",
        "colab": {}
      },
      "source": [
        "# resposta..."
      ],
      "execution_count": 0,
      "outputs": []
    },
    {
      "cell_type": "markdown",
      "metadata": {
        "id": "HfLGXzjN7AuR",
        "colab_type": "text"
      },
      "source": [
        "* Verifique o tamanho da *string* da variável sha1_hash abaixo:"
      ]
    },
    {
      "cell_type": "code",
      "metadata": {
        "id": "7ptSvRIL7FYw",
        "colab_type": "code",
        "colab": {}
      },
      "source": [
        "sha1_hash = \"b91552e0b2b2183e85a4371020ab6b9f4ef83ed0\"\n",
        "\n",
        "# imprimir na tela o tamanho da variável sha1_hash\n"
      ],
      "execution_count": 0,
      "outputs": []
    },
    {
      "cell_type": "code",
      "metadata": {
        "id": "WFCUMU5m8LU7",
        "colab_type": "code",
        "colab": {}
      },
      "source": [
        ""
      ],
      "execution_count": 0,
      "outputs": []
    }
  ]
}
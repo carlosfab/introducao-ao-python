{
  "nbformat": 4,
  "nbformat_minor": 0,
  "metadata": {
    "colab": {
      "name": "Strings.ipynb",
      "provenance": [],
      "include_colab_link": true
    },
    "kernelspec": {
      "name": "python3",
      "display_name": "Python 3"
    }
  },
  "cells": [
    {
      "cell_type": "markdown",
      "metadata": {
        "id": "view-in-github",
        "colab_type": "text"
      },
      "source": [
        "<a href=\"https://colab.research.google.com/github/carlosfab/introducao-ao-python/blob/master/Strings.ipynb\" target=\"_parent\"><img src=\"https://colab.research.google.com/assets/colab-badge.svg\" alt=\"Open In Colab\"/></a>"
      ]
    },
    {
      "cell_type": "markdown",
      "metadata": {
        "id": "CkHnujC02HJh",
        "colab_type": "text"
      },
      "source": [
        "# Introdução ao Python\n",
        "\n",
        "Nesta aula conheceremos as *strings*, que são uma sequência de caracteres como números, letras e símbolos.\n",
        "\n",
        "## Strings\n",
        "\n",
        "Strings são caracteres declarados entre aspas (simples ou duplas), sendo que esses caracteres podem ser símbolos, números ou letras.\n",
        "\n",
        "Operações ou manipulações de *strings* são muito comuns, e com frequência você irá precisar trabalhá-las em seus projetos de *Data Science*. Vale ressaltar que o Python mostra o tipo *string* como sendo `str`:"
      ]
    },
    {
      "cell_type": "code",
      "metadata": {
        "id": "AB9azh_H3Hkl",
        "colab_type": "code",
        "colab": {
          "base_uri": "https://localhost:8080/",
          "height": 35
        },
        "outputId": "415c2c0f-2341-4367-a6f8-1fb1e08eebaa"
      },
      "source": [
        "type(\"Carlos Melo\")"
      ],
      "execution_count": 1,
      "outputs": [
        {
          "output_type": "execute_result",
          "data": {
            "text/plain": [
              "str"
            ]
          },
          "metadata": {
            "tags": []
          },
          "execution_count": 1
        }
      ]
    },
    {
      "cell_type": "markdown",
      "metadata": {
        "id": "uWZ8wBre3Jk_",
        "colab_type": "text"
      },
      "source": [
        "Para imprimir *strings*, eu iformo as mesmas dentro da função `print()`."
      ]
    },
    {
      "cell_type": "code",
      "metadata": {
        "id": "i7fXHlKz3vS6",
        "colab_type": "code",
        "colab": {
          "base_uri": "https://localhost:8080/",
          "height": 72
        },
        "outputId": "8093cab3-d273-4941-bb39-98ee0d15b557"
      },
      "source": [
        "nome = \"Carlos\"\n",
        "sobrenome = \"Melo\"\n",
        "sufixo = \"Junior\"\n",
        "profissao = \"Piloto\"\n",
        "\n",
        "# imprimir nome completo\n",
        "print(\"Nome completo:\")\n",
        "print(nome, sobrenome, sufixo)\n",
        "\n",
        "# imprimir profissão\n",
        "print(\"Sua profissão é\", profissao + \".\")"
      ],
      "execution_count": 2,
      "outputs": [
        {
          "output_type": "stream",
          "text": [
            "Nome completo:\n",
            "Carlos Melo Junior\n",
            "Sua profissão é Piloto.\n"
          ],
          "name": "stdout"
        }
      ]
    },
    {
      "cell_type": "markdown",
      "metadata": {
        "id": "YP3MDpvp4BUO",
        "colab_type": "text"
      },
      "source": [
        "É possível acessar os caracteres individuais dentro de uma *string*. Para isso, basta informar a posição desejada entre colchetes.\n",
        "\n",
        "**Lembre-se sempre que a linguagem Python (assim como a maioria) começa com uma indexação em 0.** Veja como as posições da *string* `Carlos` estão distribuidas:\n",
        "\n",
        "| **0** | **1** | **2** | **3** | **4** | **5** |\n",
        "|:-----:|:-----:|:-----:|:-----:|:-----:|:-----:|\n",
        "| C     | a     | r     | l     | o     | s     |\n",
        "\n",
        "Uma dica, para acessar a última letra de uma *string* é só colocar `[-1]` ao final da mesma.\n"
      ]
    },
    {
      "cell_type": "code",
      "metadata": {
        "id": "SomdfCeS5G_-",
        "colab_type": "code",
        "colab": {
          "base_uri": "https://localhost:8080/",
          "height": 35
        },
        "outputId": "2b3eea8d-4b61-42a5-c434-876b008d6657"
      },
      "source": [
        "nome = \"Carlos\"\n",
        "\n",
        "# ver qual é a primeira letra da variável `nome`\n",
        "nome[0]"
      ],
      "execution_count": 3,
      "outputs": [
        {
          "output_type": "execute_result",
          "data": {
            "text/plain": [
              "'C'"
            ]
          },
          "metadata": {
            "tags": []
          },
          "execution_count": 3
        }
      ]
    },
    {
      "cell_type": "code",
      "metadata": {
        "id": "1GLcSOmw5Tnc",
        "colab_type": "code",
        "colab": {
          "base_uri": "https://localhost:8080/",
          "height": 35
        },
        "outputId": "238c52d1-2b52-4fc2-9f21-ce7f074b32a7"
      },
      "source": [
        "# ver qual a última letra da variável `nome`\n",
        "nome[-1]"
      ],
      "execution_count": 4,
      "outputs": [
        {
          "output_type": "execute_result",
          "data": {
            "text/plain": [
              "'s'"
            ]
          },
          "metadata": {
            "tags": []
          },
          "execution_count": 4
        }
      ]
    },
    {
      "cell_type": "markdown",
      "metadata": {
        "id": "uBz-T_tk5nuV",
        "colab_type": "text"
      },
      "source": [
        "### Função  `len()`\n",
        "\n",
        "\n",
        "Para saber o tamanho de uma *string*, existe no Python uma função chamada `len()`, que irá sempre retornar um valor do tipo inteiro (`int`). Usá-la é muito simples e direto:"
      ]
    },
    {
      "cell_type": "code",
      "metadata": {
        "id": "QWjKTNXG6B-1",
        "colab_type": "code",
        "colab": {
          "base_uri": "https://localhost:8080/",
          "height": 35
        },
        "outputId": "66b20592-a331-45cd-a5db-805c849ffe4b"
      },
      "source": [
        "# verificar o tamanho da sequência de um DNA\n",
        "dna = 'ATGCGGACCTAT'\n",
        "\n",
        "print(len(dna))"
      ],
      "execution_count": 5,
      "outputs": [
        {
          "output_type": "stream",
          "text": [
            "12\n"
          ],
          "name": "stdout"
        }
      ]
    },
    {
      "cell_type": "markdown",
      "metadata": {
        "id": "8_8c7E5pM4_D",
        "colab_type": "text"
      },
      "source": [
        "### Função `split()`\n",
        "\n",
        "A função `split()` serve para você separar *strings* baseando-se em um delimitador. Por exemplo, a variável nome da célula abaixo contém 3 nomes separados por vírgulas.\n",
        "\n",
        "Para eu extrair esses nomes, basta eu executar `nomes.split(',')`, e o Python vai me retornar uma lista com 3 itens.\n",
        "\n",
        "Não se preocupe. O conceito de listas será abordado mais para frente!"
      ]
    },
    {
      "cell_type": "code",
      "metadata": {
        "id": "cHMzFgI1NKD4",
        "colab_type": "code",
        "colab": {
          "base_uri": "https://localhost:8080/",
          "height": 35
        },
        "outputId": "f2b57d07-3394-4bb1-ef10-de564b62b07c"
      },
      "source": [
        "nomes = \"Carlos,Fernanda,Theo\"\n",
        "nomes.split(',')"
      ],
      "execution_count": 8,
      "outputs": [
        {
          "output_type": "execute_result",
          "data": {
            "text/plain": [
              "['Carlos', 'Fernanda', 'Theo']"
            ]
          },
          "metadata": {
            "tags": []
          },
          "execution_count": 8
        }
      ]
    },
    {
      "cell_type": "markdown",
      "metadata": {
        "id": "AznUPY6GN2Ef",
        "colab_type": "text"
      },
      "source": [
        "### Função `replace()`\n",
        "\n",
        "Como o nome já diz, ela serve para substituir caracteres dentro de uma string.\n",
        "\n",
        "Imagine a situação que você importa uma tabela sua do Excel, e os valores monetários estão no sistema brasileiro,ou seja, as casas decimais estão separadas por vírgulas.\n",
        "\n",
        "Se eu quiser converter uma string do tipo `9,50` em um valor numérico, eu tenho que substituir a vírgula pelo ponto:"
      ]
    },
    {
      "cell_type": "code",
      "metadata": {
        "id": "hnan1bvbN6gu",
        "colab_type": "code",
        "colab": {
          "base_uri": "https://localhost:8080/",
          "height": 35
        },
        "outputId": "16814bef-3daa-4331-d46e-c086aac56482"
      },
      "source": [
        "\"9,50\".replace(\",\", \".\")"
      ],
      "execution_count": 12,
      "outputs": [
        {
          "output_type": "execute_result",
          "data": {
            "text/plain": [
              "'9.00'"
            ]
          },
          "metadata": {
            "tags": []
          },
          "execution_count": 12
        }
      ]
    },
    {
      "cell_type": "code",
      "metadata": {
        "id": "jl4aiAkcOx3q",
        "colab_type": "code",
        "colab": {
          "base_uri": "https://localhost:8080/",
          "height": 35
        },
        "outputId": "9fa8f1de-7f13-4499-ffd2-87826f16b723"
      },
      "source": [
        "float(\"9,50\".replace(\",\", \".\"))"
      ],
      "execution_count": 15,
      "outputs": [
        {
          "output_type": "execute_result",
          "data": {
            "text/plain": [
              "9.5"
            ]
          },
          "metadata": {
            "tags": []
          },
          "execution_count": 15
        }
      ]
    },
    {
      "cell_type": "markdown",
      "metadata": {
        "id": "3DXl0egTPKUf",
        "colab_type": "text"
      },
      "source": [
        "### Função `strip()`\n",
        "\n",
        "Remove ou espaços em branco ou caracteres indesejados. Pode ser usada tanto para remover espaços em branco no começo e final de uma *string*, quanto para remover caracteres indesejados."
      ]
    },
    {
      "cell_type": "code",
      "metadata": {
        "id": "L3WNVdSHPcgR",
        "colab_type": "code",
        "colab": {
          "base_uri": "https://localhost:8080/",
          "height": 35
        },
        "outputId": "61f36d05-f455-499f-dd50-5ec2e49ae71a"
      },
      "source": [
        "nome = \"     Carlos Melo     \"\n",
        "nome.strip()"
      ],
      "execution_count": 17,
      "outputs": [
        {
          "output_type": "execute_result",
          "data": {
            "text/plain": [
              "'Carlos Melo'"
            ]
          },
          "metadata": {
            "tags": []
          },
          "execution_count": 17
        }
      ]
    },
    {
      "cell_type": "markdown",
      "metadata": {
        "id": "K-NCdAuzPqCn",
        "colab_type": "text"
      },
      "source": [
        "Voltando ao exemplo que usei na função `replace()`, imagine que quando você importou seus dados eles virem da seguinte forma: `R$ 9,50`.\n",
        "\n",
        "Se você quiser converter para um número, precisa antes eliminar os caracteres `R$ `"
      ]
    },
    {
      "cell_type": "code",
      "metadata": {
        "id": "WTBVx1_MOxxK",
        "colab_type": "code",
        "colab": {
          "base_uri": "https://localhost:8080/",
          "height": 35
        },
        "outputId": "d6cded54-0132-468f-8152-a2f935873dbf"
      },
      "source": [
        "\"R$ 9,50\".strip('R$ ')"
      ],
      "execution_count": 18,
      "outputs": [
        {
          "output_type": "execute_result",
          "data": {
            "text/plain": [
              "'9,50'"
            ]
          },
          "metadata": {
            "tags": []
          },
          "execution_count": 18
        }
      ]
    },
    {
      "cell_type": "code",
      "metadata": {
        "id": "NNdcdLZaP-J4",
        "colab_type": "code",
        "colab": {
          "base_uri": "https://localhost:8080/",
          "height": 35
        },
        "outputId": "0407440b-58e2-448f-f6ae-8183e8919c93"
      },
      "source": [
        "\"R$ 9,50\".strip('R$ ').replace(',', '.')"
      ],
      "execution_count": 19,
      "outputs": [
        {
          "output_type": "execute_result",
          "data": {
            "text/plain": [
              "'9.50'"
            ]
          },
          "metadata": {
            "tags": []
          },
          "execution_count": 19
        }
      ]
    },
    {
      "cell_type": "code",
      "metadata": {
        "id": "2PLQynBSQF-s",
        "colab_type": "code",
        "colab": {
          "base_uri": "https://localhost:8080/",
          "height": 35
        },
        "outputId": "1fb95b0f-835c-4e95-ce11-f5d9d7a76286"
      },
      "source": [
        "float(\"R$ 9,50\".strip('R$ ').replace(',', '.'))"
      ],
      "execution_count": 20,
      "outputs": [
        {
          "output_type": "execute_result",
          "data": {
            "text/plain": [
              "9.5"
            ]
          },
          "metadata": {
            "tags": []
          },
          "execution_count": 20
        }
      ]
    },
    {
      "cell_type": "markdown",
      "metadata": {
        "id": "vSoPOrap6xE1",
        "colab_type": "text"
      },
      "source": [
        "## Exercícios\n",
        "\n",
        "* Escreva seu nome e sobrenome, como nos exemplos acima, e imprima ele na tela usando a função `print()`:"
      ]
    },
    {
      "cell_type": "code",
      "metadata": {
        "id": "ehkKyhU_60_3",
        "colab_type": "code",
        "colab": {}
      },
      "source": [
        "# resposta..."
      ],
      "execution_count": 0,
      "outputs": []
    },
    {
      "cell_type": "markdown",
      "metadata": {
        "id": "HfLGXzjN7AuR",
        "colab_type": "text"
      },
      "source": [
        "* Verifique o tamanho da *string* da variável sha1_hash abaixo:"
      ]
    },
    {
      "cell_type": "code",
      "metadata": {
        "id": "7ptSvRIL7FYw",
        "colab_type": "code",
        "colab": {}
      },
      "source": [
        "sha1_hash = \"b91552e0b2b2183e85a4371020ab6b9f4ef83ed0\"\n",
        "\n",
        "# imprimir na tela o tamanho da variável sha1_hash\n"
      ],
      "execution_count": 0,
      "outputs": []
    },
    {
      "cell_type": "markdown",
      "metadata": {
        "id": "WFCUMU5m8LU7",
        "colab_type": "text"
      },
      "source": [
        "* Converta a string `85,00 Kg` em uma variável do tipo float."
      ]
    },
    {
      "cell_type": "code",
      "metadata": {
        "id": "A5gYKZSGQRtw",
        "colab_type": "code",
        "colab": {}
      },
      "source": [
        ""
      ],
      "execution_count": 0,
      "outputs": []
    }
  ]
}